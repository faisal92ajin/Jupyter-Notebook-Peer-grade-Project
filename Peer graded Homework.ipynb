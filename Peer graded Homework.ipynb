{
 "cells": [
  {
   "cell_type": "markdown",
   "metadata": {},
   "source": [
    "<center>\n",
    "    <img src=\"https://cf-courses-data.s3.us.cloud-object-storage.appdomain.cloud/IBMDeveloperSkillsNetwork-DS0105EN-SkillsNetwork/labs/Module2/images/SN_web_lightmode.png\" width=\"300\" alt=\"cognitiveclass.ai logo\">\n",
    "</center>\n"
   ]
  },
  {
   "cell_type": "markdown",
   "metadata": {},
   "source": [
    "#### Add your code below following the instructions given in the course\n"
   ]
  },
  {
   "cell_type": "markdown",
   "metadata": {},
   "source": [
    "# Title: Peer graded Homework"
   ]
  },
  {
   "cell_type": "markdown",
   "metadata": {},
   "source": [
    "Introduction:  \n",
    "\n",
    "In this Jupyter NOtebook I will introduce the reader to the main tools for data science and name them"
   ]
  },
  {
   "cell_type": "markdown",
   "metadata": {},
   "source": [
    "data science languages:\n",
    "\n",
    "Python\n",
    "Julia\n",
    "R"
   ]
  },
  {
   "cell_type": "markdown",
   "metadata": {},
   "source": [
    "data science libraries:\n",
    "\n",
    "ggplott2\n",
    "caret\n",
    "pandas"
   ]
  },
  {
   "cell_type": "markdown",
   "metadata": {},
   "source": [
    "a table of Data Science tools:\n",
    "\n",
    "Machine learning: scikit-learn, TensorFlow, PyTorch\n",
    "\n",
    "Data Visualization: matplotlib, ggplot, Tableau, D3.js\n",
    "\n",
    "Data Manipulation: pandas, dplyr, SQL, Apache Spark\n",
    "\n"
   ]
  },
  {
   "cell_type": "markdown",
   "metadata": {},
   "source": [
    "arithmetic expression examples:"
   ]
  },
  {
   "cell_type": "code",
   "execution_count": 16,
   "metadata": {},
   "outputs": [
    {
     "name": "stdout",
     "output_type": "stream",
     "text": [
      "5\n",
      "6\n"
     ]
    }
   ],
   "source": [
    "x= 2\n",
    "y= 3\n",
    "print(x+y)\n",
    "print(x*y)"
   ]
  },
  {
   "cell_type": "code",
   "execution_count": 36,
   "metadata": {},
   "outputs": [
    {
     "name": "stdout",
     "output_type": "stream",
     "text": [
      "1000060\n",
      "minutes value in hours: 2\n",
      "Time in preferred format :- 02:46:40\n"
     ]
    }
   ],
   "source": [
    "def convert_to_preferred_format(sec):\n",
    "   sec = sec % (24 * 3600)\n",
    "   hour = sec // 3600\n",
    "   sec %= 3600\n",
    "   min = sec // 60\n",
    "   sec %= 60\n",
    "   print(\"minutes value in hours:\",hour)\n",
    "   \n",
    "   return \"%02d:%02d:%02d\" % (hour, min, sec) \n",
    "\n",
    "input(n)\n",
    "print(\"Time in preferred format :-\",convert_to_preferred_format(n))\n",
    "\n"
   ]
  },
  {
   "cell_type": "markdown",
   "metadata": {},
   "source": [
    "Objectives: they were succefully represneted to the reader \n"
   ]
  },
  {
   "cell_type": "markdown",
   "metadata": {},
   "source": [
    "the Author’s name:\n",
    "Faisal Ajin"
   ]
  },
  {
   "cell_type": "code",
   "execution_count": null,
   "metadata": {},
   "outputs": [],
   "source": []
  }
 ],
 "metadata": {
  "kernelspec": {
   "display_name": "Python 3 (ipykernel)",
   "language": "python",
   "name": "python3"
  },
  "language_info": {
   "codemirror_mode": {
    "name": "ipython",
    "version": 3
   },
   "file_extension": ".py",
   "mimetype": "text/x-python",
   "name": "python",
   "nbconvert_exporter": "python",
   "pygments_lexer": "ipython3",
   "version": "3.9.12"
  }
 },
 "nbformat": 4,
 "nbformat_minor": 4
}
